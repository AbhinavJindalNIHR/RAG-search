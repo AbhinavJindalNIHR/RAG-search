{
 "cells": [
  {
   "cell_type": "markdown",
   "metadata": {},
   "source": [
    "# Dependencies"
   ]
  },
  {
   "cell_type": "code",
   "execution_count": 4,
   "metadata": {},
   "outputs": [],
   "source": [
    "#load dependencies\n",
    "from sql_conn import connection #SQL connection details and variables\n",
    "#import neuralnet as nn #functions to form neural network and calculate accuracy and plot accuracy with history\n",
    "import preproc as pr #functions to preprocess data \n",
    "import pandas as pd\n",
    "from sentence_transformers import SentenceTransformer\n",
    "import faiss\n",
    "import numpy as np\n"
   ]
  },
  {
   "cell_type": "markdown",
   "metadata": {},
   "source": [
    "# Importing SQL data"
   ]
  },
  {
   "cell_type": "code",
   "execution_count": 2,
   "metadata": {},
   "outputs": [],
   "source": [
    "s='''\n",
    "        SELECT \n",
    "        StudyID\n",
    "        ,[StudyTitle]\n",
    "        ,[StudyShortName]\n",
    "        ,StudyResearchSummary\n",
    "        ,StudyInclusionCriteria\n",
    "        ,StudyDesignType\n",
    "        ,StudyPhases_Concatenated\n",
    "        ,StudySettings_Concatenated\n",
    "        ,StudyManagingSpecialty\n",
    "        ,StudyManagingSpecialty_PrimarySubSpecialty\n",
    "        ,Study_IsCommercial\n",
    "        ,Study_IsDraft\n",
    "\n",
    "        FROM [CPMS_BI].[dbo].[ODP_Study]\n",
    "\n",
    "    '''"
   ]
  },
  {
   "cell_type": "code",
   "execution_count": 3,
   "metadata": {},
   "outputs": [
    {
     "name": "stderr",
     "output_type": "stream",
     "text": [
      "C:\\Users\\busaji\\AppData\\Local\\Temp\\ipykernel_8620\\3566467870.py:1: UserWarning: pandas only supports SQLAlchemy connectable (engine/connection) or database string URI or sqlite3 DBAPI2 connection. Other DBAPI2 objects are not tested. Please consider using SQLAlchemy.\n",
      "  study_df = pd.read_sql(s, connection)\n"
     ]
    }
   ],
   "source": [
    "study_df = pd.read_sql(s, connection)\n",
    "#pre-processing\n",
    "data = study_df.fillna(\"not available\")"
   ]
  },
  {
   "cell_type": "code",
   "execution_count": 6,
   "metadata": {},
   "outputs": [],
   "source": [
    "#combine text data into one column\n",
    "data['Text'] = data['StudyTitle'] + \" \" + data['StudyResearchSummary'] + \" \"+ data['StudyInclusionCriteria']"
   ]
  },
  {
   "cell_type": "code",
   "execution_count": null,
   "metadata": {},
   "outputs": [],
   "source": [
    "#drop unrequired fields\n",
    "\n",
    "data_cln = data.drop(['StudyTitle','StudyResearchSummary','StudyInclusionCriteria',\n",
    "            'StudyTitle',\n",
    "          'StudyDesignType','StudyPhases_Concatenated','StudySettings_Concatenated',\n",
    "          'StudyShortName',\n",
    "          'StudyManagingSpecialty','StudyManagingSpecialty_PrimarySubSpecialty'], axis=1)"
   ]
  },
  {
   "cell_type": "markdown",
   "metadata": {},
   "source": [
    "# RAG program - TEST"
   ]
  },
  {
   "cell_type": "code",
   "execution_count": 7,
   "metadata": {},
   "outputs": [
    {
     "data": {
      "application/vnd.jupyter.widget-view+json": {
       "model_id": "ac5e4b2613734a9eb0b7bc9bcd090379",
       "version_major": 2,
       "version_minor": 0
      },
      "text/plain": [
       "modules.json:   0%|          | 0.00/349 [00:00<?, ?B/s]"
      ]
     },
     "metadata": {},
     "output_type": "display_data"
    },
    {
     "name": "stderr",
     "output_type": "stream",
     "text": [
      "c:\\Users\\busaji\\Documents\\Projects\\RAG-search\\.venv\\Lib\\site-packages\\huggingface_hub\\file_download.py:140: UserWarning: `huggingface_hub` cache-system uses symlinks by default to efficiently store duplicated files but your machine does not support them in C:\\Users\\busaji\\.cache\\huggingface\\hub\\models--sentence-transformers--all-MiniLM-L6-v2. Caching files will still work but in a degraded version that might require more space on your disk. This warning can be disabled by setting the `HF_HUB_DISABLE_SYMLINKS_WARNING` environment variable. For more details, see https://huggingface.co/docs/huggingface_hub/how-to-cache#limitations.\n",
      "To support symlinks on Windows, you either need to activate Developer Mode or to run Python as an administrator. In order to activate developer mode, see this article: https://docs.microsoft.com/en-us/windows/apps/get-started/enable-your-device-for-development\n",
      "  warnings.warn(message)\n"
     ]
    },
    {
     "data": {
      "application/vnd.jupyter.widget-view+json": {
       "model_id": "ed3a02a01d6f4af796640bda8a84f565",
       "version_major": 2,
       "version_minor": 0
      },
      "text/plain": [
       "config_sentence_transformers.json:   0%|          | 0.00/116 [00:00<?, ?B/s]"
      ]
     },
     "metadata": {},
     "output_type": "display_data"
    },
    {
     "data": {
      "application/vnd.jupyter.widget-view+json": {
       "model_id": "626c83a49dcf4893bf181785363aa486",
       "version_major": 2,
       "version_minor": 0
      },
      "text/plain": [
       "README.md:   0%|          | 0.00/10.7k [00:00<?, ?B/s]"
      ]
     },
     "metadata": {},
     "output_type": "display_data"
    },
    {
     "data": {
      "application/vnd.jupyter.widget-view+json": {
       "model_id": "7ec16ae9c50e49f9919e0ce2bc5bd98e",
       "version_major": 2,
       "version_minor": 0
      },
      "text/plain": [
       "sentence_bert_config.json:   0%|          | 0.00/53.0 [00:00<?, ?B/s]"
      ]
     },
     "metadata": {},
     "output_type": "display_data"
    },
    {
     "data": {
      "application/vnd.jupyter.widget-view+json": {
       "model_id": "f3393c20da1248448fb7e58df8279fbf",
       "version_major": 2,
       "version_minor": 0
      },
      "text/plain": [
       "config.json:   0%|          | 0.00/612 [00:00<?, ?B/s]"
      ]
     },
     "metadata": {},
     "output_type": "display_data"
    },
    {
     "data": {
      "application/vnd.jupyter.widget-view+json": {
       "model_id": "bb34b1c0803e4674bf88cf33f0501e66",
       "version_major": 2,
       "version_minor": 0
      },
      "text/plain": [
       "model.safetensors:   0%|          | 0.00/90.9M [00:00<?, ?B/s]"
      ]
     },
     "metadata": {},
     "output_type": "display_data"
    },
    {
     "data": {
      "application/vnd.jupyter.widget-view+json": {
       "model_id": "caa4f67646eb4e33aaada4b17fcf40ec",
       "version_major": 2,
       "version_minor": 0
      },
      "text/plain": [
       "tokenizer_config.json:   0%|          | 0.00/350 [00:00<?, ?B/s]"
      ]
     },
     "metadata": {},
     "output_type": "display_data"
    },
    {
     "data": {
      "application/vnd.jupyter.widget-view+json": {
       "model_id": "b96d46751cd44375bb91d55e072e2fd0",
       "version_major": 2,
       "version_minor": 0
      },
      "text/plain": [
       "vocab.txt:   0%|          | 0.00/232k [00:00<?, ?B/s]"
      ]
     },
     "metadata": {},
     "output_type": "display_data"
    },
    {
     "data": {
      "application/vnd.jupyter.widget-view+json": {
       "model_id": "6c85e4d6a0f442dfb2844814a74c5f68",
       "version_major": 2,
       "version_minor": 0
      },
      "text/plain": [
       "tokenizer.json:   0%|          | 0.00/466k [00:00<?, ?B/s]"
      ]
     },
     "metadata": {},
     "output_type": "display_data"
    },
    {
     "data": {
      "application/vnd.jupyter.widget-view+json": {
       "model_id": "6a447d2781684f6fb28afa951c507978",
       "version_major": 2,
       "version_minor": 0
      },
      "text/plain": [
       "special_tokens_map.json:   0%|          | 0.00/112 [00:00<?, ?B/s]"
      ]
     },
     "metadata": {},
     "output_type": "display_data"
    },
    {
     "data": {
      "application/vnd.jupyter.widget-view+json": {
       "model_id": "f732e65b081448a480dd5db7fcbe36b5",
       "version_major": 2,
       "version_minor": 0
      },
      "text/plain": [
       "1_Pooling/config.json:   0%|          | 0.00/190 [00:00<?, ?B/s]"
      ]
     },
     "metadata": {},
     "output_type": "display_data"
    },
    {
     "name": "stdout",
     "output_type": "stream",
     "text": [
      "       StudyID                                         StudyTitle  \\\n",
      "3380      6874               Active surveillance of vaccine study   \n",
      "43940    60678  Understanding the associations between reactog...   \n",
      "46645    63534  A toolkit to facilitate the introduction of RS...   \n",
      "48246    65187               Understanding Flu Vaccination Advice   \n",
      "29200    43771  Vaccine uptake and immunity screening assessme...   \n",
      "\n",
      "                                          StudyShortName  \\\n",
      "3380                Active surveillance of vaccine study   \n",
      "43940  CONNECT: understanding associations with react...   \n",
      "46645                Developing an RSV toolkit for LMICs   \n",
      "48246                                              GUIDE   \n",
      "29200                                              VISTA   \n",
      "\n",
      "                                    StudyResearchSummary  \\\n",
      "3380                                                       \n",
      "43940                                      not available   \n",
      "46645                                      not available   \n",
      "48246                                      not available   \n",
      "29200  Migrants are an important group for targeted h...   \n",
      "\n",
      "                                  StudyInclusionCriteria StudyDesignType  \\\n",
      "3380                                             Unknown   Observational   \n",
      "43940                                      not available   not available   \n",
      "46645                                      not available   not available   \n",
      "48246                                      not available   not available   \n",
      "29200  Inclusion Criteria    • Age > = 16  • Overseas...            Both   \n",
      "\n",
      "      StudyPhases_Concatenated                 StudySettings_Concatenated  \\\n",
      "3380                       N/A                          None of the above   \n",
      "43940            not available                              not available   \n",
      "46645            not available                              not available   \n",
      "48246            not available                              not available   \n",
      "29200                      N/A  Primary Care, Secondary Care, Social Care   \n",
      "\n",
      "      StudyManagingSpecialty  \\\n",
      "3380               Infection   \n",
      "43940          not available   \n",
      "46645          not available   \n",
      "48246          not available   \n",
      "29200              Infection   \n",
      "\n",
      "             StudyManagingSpecialty_PrimarySubSpecialty  Study_IsCommercial  \\\n",
      "3380   Infectious diseases and microbiology (migration)                   0   \n",
      "43940                                     not available                   0   \n",
      "46645                                     not available                   0   \n",
      "48246                                     not available                   0   \n",
      "29200                                          Vaccines                   0   \n",
      "\n",
      "       Study_IsDraft                                               Text  \n",
      "3380               0      Active surveillance of vaccine study  Unknown  \n",
      "43940              1  Understanding the associations between reactog...  \n",
      "46645              1  A toolkit to facilitate the introduction of RS...  \n",
      "48246              1  Understanding Flu Vaccination Advice not avail...  \n",
      "29200              0  Vaccine uptake and immunity screening assessme...  \n"
     ]
    }
   ],
   "source": [
    "# Embedding model\n",
    "model = SentenceTransformer('all-MiniLM-L6-v2')\n",
    "\n",
    "# Generate embeddings\n",
    "def generate_embeddings(df, text_column):\n",
    "    return model.encode(df[text_column].tolist(), convert_to_tensor=True)\n",
    "\n",
    "text_column = 'Text'\n",
    "embeddings = generate_embeddings(data, text_column)\n",
    "\n",
    "# Convert to numpy for FAISS\n",
    "embedding_matrix = np.array([embedding.numpy() for embedding in embeddings])\n",
    "\n",
    "# Create FAISS index\n",
    "index = faiss.IndexFlatL2(embedding_matrix.shape[1])\n",
    "index.add(embedding_matrix)\n",
    "\n"
   ]
  },
  {
   "cell_type": "code",
   "execution_count": null,
   "metadata": {},
   "outputs": [
    {
     "name": "stdout",
     "output_type": "stream",
     "text": [
      "       StudyID                                         StudyTitle  \\\n",
      "3380      6874               Active surveillance of vaccine study   \n",
      "41556    58109  A Phase 3, randomized, active-controlled, obse...   \n",
      "39719    56121  An experimental medicine study of Crimean–Cong...   \n",
      "40388    56845  An experimental medicine study of influenza an...   \n",
      "43940    60678  Understanding the associations between reactog...   \n",
      "...        ...                                                ...   \n",
      "29896    44608  A Phase I Study to assess the safety and immun...   \n",
      "19097    31585  A Phase I Dose-Escalation Study to Evaluate th...   \n",
      "23881    37350  Evaluating the effect of immunisation with gro...   \n",
      "9593     13763  Using P4 Peptide to Augment Ex Vivo Phagocyte ...   \n",
      "3367      6861  An Opa protein vaccine against serogroup B men...   \n",
      "\n",
      "                                          StudyShortName  \\\n",
      "3380                Active surveillance of vaccine study   \n",
      "41556  COVID-19 mRNA vaccines in adults ≥18 years of age   \n",
      "39719  Examining lymph node cells to assess how age a...   \n",
      "40388  Lymph node flu & COVID-19 vaccine responses in...   \n",
      "43940  CONNECT: understanding associations with react...   \n",
      "...                                                  ...   \n",
      "29896                  Phase I Vaccine Study of MVA-CCHF   \n",
      "19097         Class-II invariant chain HCV vaccine study   \n",
      "23881       Be on the TEAM: Teenagers Against Meningitis   \n",
      "9593                   P4 Peptide in Severe CAP Patients   \n",
      "3367   An Opa protein vaccine against serogroup B men...   \n",
      "\n",
      "                                    StudyResearchSummary  \\\n",
      "3380                                                       \n",
      "41556                                      not available   \n",
      "39719  This study aims to understand how immune cells...   \n",
      "40388  This study investigates how lymph nodes cells ...   \n",
      "43940                                      not available   \n",
      "...                                                  ...   \n",
      "29896  The Crimean-Congo Haemorrhagic Fever (CCHF) Vi...   \n",
      "19097  Hepatitis C currently infects more than 180 mi...   \n",
      "23881  Teenagers and young children are at increased ...   \n",
      "9593   Streptococcus pneumoniae is a bacterium which ...   \n",
      "3367                                       not available   \n",
      "\n",
      "                                  StudyInclusionCriteria StudyDesignType  \\\n",
      "3380                                             Unknown   Observational   \n",
      "41556                                      not available   not available   \n",
      "39719  1.   Adults aged between 18 to 45 years (inclu...  Interventional   \n",
      "40388  1.Adults aged between 18 to 45 years (inclusiv...  Interventional   \n",
      "43940                                      not available   not available   \n",
      "...                                                  ...             ...   \n",
      "29896  In order to be eligible for this study volunte...  Interventional   \n",
      "19097  The volunteers must satisfy all of the followi...  Interventional   \n",
      "23881  • Male or Female, aged 16-18 years attending y...            Both   \n",
      "9593   Healthy volunteer inclusion criteria:  • Non-s...   Observational   \n",
      "3367                                             Unknown   Observational   \n",
      "\n",
      "      StudyPhases_Concatenated StudySettings_Concatenated  \\\n",
      "3380                       N/A          None of the above   \n",
      "41556            not available              not available   \n",
      "39719                      N/A                  Community   \n",
      "40388                      N/A                  Community   \n",
      "43940            not available              not available   \n",
      "...                        ...                        ...   \n",
      "29896                        I             Secondary Care   \n",
      "19097                        I             Secondary Care   \n",
      "23881                       IV                Social Care   \n",
      "9593                       N/A             Secondary Care   \n",
      "3367                       N/A          None of the above   \n",
      "\n",
      "      StudyManagingSpecialty  \\\n",
      "3380               Infection   \n",
      "41556              Infection   \n",
      "39719              Infection   \n",
      "40388              Infection   \n",
      "43940          not available   \n",
      "...                      ...   \n",
      "29896              Infection   \n",
      "19097             Hepatology   \n",
      "23881               Children   \n",
      "9593           Critical Care   \n",
      "3367               Infection   \n",
      "\n",
      "             StudyManagingSpecialty_PrimarySubSpecialty  Study_IsCommercial  \\\n",
      "3380   Infectious diseases and microbiology (migration)                   0   \n",
      "41556                                          Vaccines                   1   \n",
      "39719                                          Vaccines                   0   \n",
      "40388                                          Vaccines                   0   \n",
      "43940                                     not available                   0   \n",
      "...                                                 ...                 ...   \n",
      "29896                                          Vaccines                   0   \n",
      "19097                                   Viral hepatitis                   0   \n",
      "23881                   Allergy, Infection and Immunity                   0   \n",
      "9593                                      Critical Care                   0   \n",
      "3367                             Antimicrobial Research                   0   \n",
      "\n",
      "       Study_IsDraft                                               Text  \n",
      "3380               0      Active surveillance of vaccine study  Unknown  \n",
      "41556              1  A Phase 3, randomized, active-controlled, obse...  \n",
      "39719              0  An experimental medicine study of Crimean–Cong...  \n",
      "40388              0  An experimental medicine study of influenza an...  \n",
      "43940              1  Understanding the associations between reactog...  \n",
      "...              ...                                                ...  \n",
      "29896              0  A Phase I Study to assess the safety and immun...  \n",
      "19097              0  A Phase I Dose-Escalation Study to Evaluate th...  \n",
      "23881              0  Evaluating the effect of immunisation with gro...  \n",
      "9593               0  Using P4 Peptide to Augment Ex Vivo Phagocyte ...  \n",
      "3367               0  An Opa protein vaccine against serogroup B men...  \n",
      "\n",
      "[200 rows x 13 columns]\n"
     ]
    }
   ],
   "source": [
    "# Search function\n",
    "def search(query, k=200):\n",
    "    query_embedding = model.encode([query], convert_to_tensor=True)\n",
    "    query_embedding = np.array(query_embedding.numpy()).astype(np.float32)\n",
    "    distances, indices = index.search(query_embedding, k)\n",
    "    return indices, distances\n",
    "\n",
    "# Example usage\n",
    "query = \"Find all research around vaccines or MRnA\"\n",
    "indices, distances = search(query)\n",
    "\n",
    "# Retrieve matching records\n",
    "matching_records = data.iloc[indices[0]]\n",
    "print(matching_records)\n",
    "\n"
   ]
  },
  {
   "cell_type": "code",
   "execution_count": 11,
   "metadata": {},
   "outputs": [],
   "source": [
    "# Search function\n",
    "def search(query, k=1000):\n",
    "    query_embedding = model.encode([query], convert_to_tensor=True)\n",
    "    query_embedding = np.array(query_embedding.numpy()).astype(np.float32)\n",
    "    distances, indices = index.search(query_embedding, k)\n",
    "    return indices, distances\n",
    "\n",
    "\n",
    "\n",
    "# Mental health\n",
    "query = \"Find research around mental health\"\n",
    "indices, distances = search(query)\n",
    "\n",
    "# Retrieve matching records\n",
    "matching_records_ment_hlth = data.iloc[indices[0]]"
   ]
  },
  {
   "cell_type": "code",
   "execution_count": null,
   "metadata": {},
   "outputs": [],
   "source": [
    "matching_records_ment_hlth"
   ]
  }
 ],
 "metadata": {
  "kernelspec": {
   "display_name": ".venv",
   "language": "python",
   "name": "python3"
  },
  "language_info": {
   "codemirror_mode": {
    "name": "ipython",
    "version": 3
   },
   "file_extension": ".py",
   "mimetype": "text/x-python",
   "name": "python",
   "nbconvert_exporter": "python",
   "pygments_lexer": "ipython3",
   "version": "3.11.3"
  }
 },
 "nbformat": 4,
 "nbformat_minor": 2
}
